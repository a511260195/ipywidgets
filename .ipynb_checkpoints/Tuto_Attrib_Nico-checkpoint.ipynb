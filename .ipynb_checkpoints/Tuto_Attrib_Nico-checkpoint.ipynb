{
 "cells": [
  {
   "cell_type": "code",
   "execution_count": 2,
   "metadata": {},
   "outputs": [
    {
     "data": {
      "text/html": [
       "<script>requirejs.config({paths: { 'plotly': ['https://cdn.plot.ly/plotly-latest.min']},});if(!window.Plotly) {{require(['plotly'],function(plotly) {window.Plotly=plotly;});}}</script>"
      ],
      "text/vnd.plotly.v1+html": [
       "<script>requirejs.config({paths: { 'plotly': ['https://cdn.plot.ly/plotly-latest.min']},});if(!window.Plotly) {{require(['plotly'],function(plotly) {window.Plotly=plotly;});}}</script>"
      ]
     },
     "metadata": {},
     "output_type": "display_data"
    }
   ],
   "source": [
    "# %load setup_nico.py\n",
    "\"\"\"\n",
    "Created on Thu Jun 21 11:15:18 2018\n",
    "\n",
    "@author: XRF96\n",
    "\"\"\"\n",
    "\n",
    "# import standard libs\n",
    "from IPython.display import display\n",
    "from IPython.core.debugger import set_trace as bp\n",
    "import datetime\n",
    "\n",
    "# import in-house lib\n",
    "import updPosesHT4 as upd\n",
    "\n",
    "# import python scientific stack\n",
    "import pandas as pd\n",
    "import numpy as np\n",
    "import datetime\n",
    "\n",
    "import seaborn as sns\n",
    "sns.set_style('whitegrid')\n",
    "\n",
    "# import visual tools\n",
    "import bqplot as bq\n",
    "import plotly.graph_objs as go\n",
    "import plotly\n",
    "from plotly.offline import download_plotlyjs, init_notebook_mode, plot, iplot\n",
    "init_notebook_mode(connected=True)\n",
    "\n",
    "# import util libs\n",
    "import ipywidgets as widgets\n",
    "from ipywidgets import Button, HBox, VBox\n",
    "import warnings\n",
    "warnings.filterwarnings(\"ignore\")\n",
    "%matplotlib inline"
   ]
  },
  {
   "cell_type": "markdown",
   "metadata": {},
   "source": [
    "Toggle output scrolling of selected cells"
   ]
  },
  {
   "cell_type": "code",
   "execution_count": 3,
   "metadata": {},
   "outputs": [
    {
     "data": {
      "application/javascript": [
       "require(\n",
       "    [\"notebook/js/outputarea\"],\n",
       "    function (oa) {\n",
       "    oa.OutputArea.auto_scroll_threshold = -1;\n",
       "    console.log(\"Setting auto_scroll_threshold to -1\");\n",
       "    });"
      ],
      "text/plain": [
       "<IPython.core.display.Javascript object>"
      ]
     },
     "metadata": {},
     "output_type": "display_data"
    }
   ],
   "source": [
    "%%javascript\n",
    "require(\n",
    "    [\"notebook/js/outputarea\"],\n",
    "    function (oa) {\n",
    "    oa.OutputArea.auto_scroll_threshold = -1;\n",
    "    console.log(\"Setting auto_scroll_threshold to -1\");\n",
    "    });"
   ]
  },
  {
   "cell_type": "code",
   "execution_count": 4,
   "metadata": {},
   "outputs": [],
   "source": [
    "start_date, end_date = pd.datetime(2017,1,1), pd.datetime(2018,7,11)"
   ]
  },
  {
   "cell_type": "code",
   "execution_count": 5,
   "metadata": {},
   "outputs": [
    {
     "data": {
      "text/plain": [
       "(datetime.datetime(2017, 1, 1, 0, 0), datetime.datetime(2018, 7, 11, 0, 0))"
      ]
     },
     "execution_count": 5,
     "metadata": {},
     "output_type": "execute_result"
    }
   ],
   "source": [
    "start_date, end_date"
   ]
  },
  {
   "cell_type": "code",
   "execution_count": 6,
   "metadata": {},
   "outputs": [
    {
     "name": "stdout",
     "output_type": "stream",
     "text": [
      "Loading Data from 01,Jan 2017 to 11,Jul 2018\n"
     ]
    }
   ],
   "source": [
    "print('Loading Data from {:%d,%b %Y} to {:%d,%b %Y}'.format(start_date, end_date))\n",
    "df = upd.getPosesRpt(start_date, end_date, 1.0).reset_index()"
   ]
  },
  {
   "cell_type": "code",
   "execution_count": 7,
   "metadata": {},
   "outputs": [],
   "source": [
    "def wSelectMultiple(df, fields):\n",
    "    return {fld: widgets.SelectMultiple(options= ['ALL'] + elts, \n",
    "                                        value= ['ALL'],\n",
    "                                        rows= min(len(elts)+1, 8),\n",
    "                                        description= fld)\n",
    "                    for fld, elts in \n",
    "                        ((fld, list(df[fld].sort_values().unique())) for fld in fields)}"
   ]
  },
  {
   "cell_type": "code",
   "execution_count": 75,
   "metadata": {},
   "outputs": [],
   "source": [
    "flds = ['FundReference', 'Asset', 'PM', 'PtfId', 'Code']\n",
    "wSel = wSelectMultiple(df.reset_index(), flds)\n",
    "wFields = widgets.ToggleButtons(options=['pl', 'rv', 'dir', 'deltaAUM', 'gammaAUM', 'vegaAUMbp', 'thetaAUMbp', 'bpvEur'],\n",
    "    description='Fields',\n",
    "    tooltips=['PL total in bps', 'PL Relative Value in bps of slow', 'PL eq. benchmark in bps'],)"
   ]
  },
  {
   "cell_type": "code",
   "execution_count": 76,
   "metadata": {},
   "outputs": [],
   "source": [
    "def update_Code(*args):\n",
    "    #print(args)\n",
    "    codes = list(df[df['Asset'].isin(list(args[0][\"new\"]))].Code.unique())\n",
    "    #codes = list(df.query(f'Asset in {list(args[0][\"new\"])}').Code.unique())\n",
    "    wSel['Code'].options = ['ALL'] + codes\n",
    "    wSel['Code'].value = ['ALL']\n",
    "    \n",
    "    global result\n",
    "    result = codes\n",
    "wSel['Asset'].observe(update_Code, 'value')"
   ]
  },
  {
   "cell_type": "code",
   "execution_count": 77,
   "metadata": {},
   "outputs": [],
   "source": [
    "#dg = df.reset_index()\n",
    "def plot_filtered(**kwargs):\n",
    "    global select\n",
    "    select = df\n",
    "    flds = {fld: values for fld, values in kwargs.items() if not 'ALL' in values}\n",
    "    #print(flds)\n",
    "    for fld, values in flds.items():        \n",
    "        if 'mask' in locals(): \n",
    "            mask = mask & df[fld].isin(values)\n",
    "        else:\n",
    "            mask = df[fld].isin(values)\n",
    "    if 'mask' in locals():\n",
    "        select = df[mask]\n",
    "        gp = ['PtfDate'] + list(flds.keys())\n",
    "    else:\n",
    "        gp = ['PtfDate']\n",
    "    if flds:\n",
    "        select = select.groupby(gp)[wFields.value].sum().unstack(0).T\n",
    "        if not select.empty:\n",
    "            if wFields.value in ['pl', 'rv', 'dir']:\n",
    "                select.cumsum().plot(figsize= (16, 9), title= wFields.value)\n",
    "            else:\n",
    "                select.plot(figsize= (16, 9), title= wFields.value)\n",
    "    return kwargs"
   ]
  },
  {
   "cell_type": "code",
   "execution_count": 78,
   "metadata": {},
   "outputs": [],
   "source": [
    "w = widgets.interactive(plot_filtered, **wSel)"
   ]
  },
  {
   "cell_type": "code",
   "execution_count": 79,
   "metadata": {},
   "outputs": [
    {
     "data": {
      "application/vnd.jupyter.widget-view+json": {
       "model_id": "6d94e02385904d939a8f1ddd5f85b744",
       "version_major": 2,
       "version_minor": 0
      },
      "text/plain": [
       "VBox(children=(ToggleButtons(description='Fields', options=('pl', 'rv', 'dir', 'deltaAUM', 'gammaAUM', 'vegaAU…"
      ]
     },
     "metadata": {},
     "output_type": "display_data"
    }
   ],
   "source": [
    "display(VBox([wFields, \n",
    "              widgets.Label('Please select filters'),\n",
    "              HBox(w.children[:-1]), \n",
    "              w.children[-1]]))"
   ]
  },
  {
   "cell_type": "code",
   "execution_count": null,
   "metadata": {},
   "outputs": [],
   "source": [
    "def calculate_password(length):\n",
    "    import string\n",
    "    import secrets\n",
    "    \n",
    "    # Gaenerate a list of random letters of the correct length.\n",
    "    password = ''.join(secrets.choice(string.ascii_letters) for _ in range(length))\n",
    "\n",
    "    return password"
   ]
  },
  {
   "cell_type": "code",
   "execution_count": null,
   "metadata": {},
   "outputs": [],
   "source": [
    "helpful_title = widgets.HTML('Generated password is:')\n",
    "password_text = widgets.HTML('No password yet')\n",
    "password_text.layout.margin = '0 0 0 20px'\n",
    "password_length = widgets.IntSlider(description='Length of password',\n",
    "                                   min=8, max=20,\n",
    "                                   style={'description_width': 'initial'})\n",
    "\n",
    "password_widget = widgets.VBox(children=[helpful_title, password_text, password_length])"
   ]
  },
  {
   "cell_type": "code",
   "execution_count": null,
   "metadata": {},
   "outputs": [],
   "source": [
    "def update_password(change):\n",
    "    length = int(change.new)\n",
    "    new_password = calculate_password(length)\n",
    "    \n",
    "    # NOTE THE LINE BELOW: it relies on the password widget already being defined.\n",
    "    password_text.value = new_password\n",
    "    \n",
    "password_length.observe(update_password, names='value')"
   ]
  },
  {
   "cell_type": "code",
   "execution_count": null,
   "metadata": {},
   "outputs": [],
   "source": [
    "password_widget"
   ]
  },
  {
   "cell_type": "code",
   "execution_count": null,
   "metadata": {},
   "outputs": [],
   "source": []
  }
 ],
 "metadata": {
  "kernelspec": {
   "display_name": "Python 3",
   "language": "python",
   "name": "python3"
  },
  "language_info": {
   "codemirror_mode": {
    "name": "ipython",
    "version": 3
   },
   "file_extension": ".py",
   "mimetype": "text/x-python",
   "name": "python",
   "nbconvert_exporter": "python",
   "pygments_lexer": "ipython3",
   "version": "3.6.3"
  }
 },
 "nbformat": 4,
 "nbformat_minor": 2
}
