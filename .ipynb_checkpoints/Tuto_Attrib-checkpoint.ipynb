{
 "cells": [
  {
   "cell_type": "markdown",
   "metadata": {},
   "source": [
    "# Plot Attrib Perf and historical risk"
   ]
  },
  {
   "cell_type": "markdown",
   "metadata": {},
   "source": [
    "<script>\n",
    "  function code_toggle() {\n",
    "    if (code_shown){\n",
    "      $('div.input').hide('500');\n",
    "      $('#toggleButton').val('Show Code')\n",
    "    } else {\n",
    "      $('div.input').show('500');\n",
    "      $('#toggleButton').val('Hide Code')\n",
    "    }\n",
    "    code_shown = !code_shown\n",
    "  }\n",
    "\n",
    "  $( document ).ready(function(){\n",
    "    code_shown=false;\n",
    "    $('div.input').hide()\n",
    "  });\n",
    "</script>\n",
    "<form action=\"javascript:code_toggle()\"><input type=\"submit\" id=\"toggleButton\" value=\"Show Code\"></form>"
   ]
  },
  {
   "cell_type": "markdown",
   "metadata": {},
   "source": [
    "<script>\n",
    "code_show=true; \n",
    "function code_toggle() {\n",
    " if (code_show){\n",
    " $('div.input').hide();\n",
    " } else {\n",
    " $('div.input').show();\n",
    " }\n",
    " code_show = !code_show\n",
    "} \n",
    "$( document ).ready(code_toggle);\n",
    "</script>"
   ]
  },
  {
   "cell_type": "markdown",
   "metadata": {},
   "source": [
    "The raw code for this IPython notebook is by default hidden for easier reading.To toggle on/off the raw code, click <a href=\"javascript:code_toggle()\">here</a>."
   ]
  },
  {
   "cell_type": "code",
   "execution_count": 10,
   "metadata": {},
   "outputs": [],
   "source": [
    "# import standard libs\n",
    "from IPython.display import display\n",
    "#from IPython.core.debugger import set_trace as bp\n",
    "#import datetime\n",
    "\n",
    "# import in-house lib\n",
    "import updPosesHT4 as upd\n",
    "\n",
    "# import python scientific stack\n",
    "import pandas as pd\n",
    "import numpy as np\n",
    "#import datetime\n",
    "\n",
    "import matplotlib.pyplot  as plt\n",
    "import seaborn as sns\n",
    "sns.set_style('whitegrid')\n",
    "sns.set_context('talk')\n",
    "\n",
    "# import visual tools\n",
    "#import bqplot as bq\n",
    "#import plotly.graph_objs as go\n",
    "#import plotly\n",
    "#from plotly.offline import download_plotlyjs, init_notebook_mode, plot, iplot\n",
    "#init_notebook_mode(connected=True)\n",
    "\n",
    "# import util libs\n",
    "import ipywidgets as widgets\n",
    "from ipywidgets import Button, HBox, VBox\n",
    "%matplotlib inline"
   ]
  },
  {
   "cell_type": "markdown",
   "metadata": {},
   "source": [
    "Toggle output scrolling of selected cells"
   ]
  },
  {
   "cell_type": "code",
   "execution_count": 2,
   "metadata": {},
   "outputs": [],
   "source": [
    "start_date, end_date = pd.datetime(2017,1,1), pd.datetime.today()"
   ]
  },
  {
   "cell_type": "code",
   "execution_count": 3,
   "metadata": {},
   "outputs": [
    {
     "name": "stdout",
     "output_type": "stream",
     "text": [
      "Loading Data from 01,Jan 2017 to 17,Jul 2018\n"
     ]
    }
   ],
   "source": [
    "print('Loading Data from {:%d,%b %Y} to {:%d,%b %Y}'.format(start_date, end_date))\n",
    "df = upd.getPosesRpt(start_date, end_date, 1.0).reset_index()\n",
    "df = df.drop(df[df.PM=='PTF'].index)"
   ]
  },
  {
   "cell_type": "code",
   "execution_count": 4,
   "metadata": {},
   "outputs": [],
   "source": [
    "def wSelectMultiple(df, fields):\n",
    "    return {fld: widgets.SelectMultiple(options= ['ALL'] + elts, \n",
    "                                        value= ['ALL'],\n",
    "                                        rows= min(len(elts)+1, 8),\n",
    "                                        description= fld)\n",
    "                    for fld, elts in \n",
    "                        ((fld, list(df[fld].sort_values().unique())) for fld in fields)}"
   ]
  },
  {
   "cell_type": "code",
   "execution_count": 5,
   "metadata": {},
   "outputs": [],
   "source": [
    "flds = ['Asset', 'PM', 'PtfId', 'Code']\n",
    "wSel = wSelectMultiple(df.reset_index(), flds)\n",
    "wSel['FundReference'] = widgets.ToggleButtons(options= ['DGA', 'ITX3'])\n",
    "wFields = widgets.ToggleButtons(options=['pl', 'rv', 'dir', 'deltaAUM', 'gammaAUM', 'vegaAUMbp', 'thetaAUMbp', 'bpvEur'],\n",
    "    description='Fields',\n",
    "    tooltips=['PL total in bps', 'PL Relative Value in bps of slow', 'PL eq. benchmark in bps'],)"
   ]
  },
  {
   "cell_type": "code",
   "execution_count": 6,
   "metadata": {},
   "outputs": [],
   "source": [
    "def update_Code(*args):\n",
    "    #print(args)\n",
    "    codes = list(df[df['Asset'].isin(list(args[0][\"new\"]))].Code.sort_values().unique())\n",
    "    #codes = list(df.query(f'Asset in {list(args[0][\"new\"])}').Code.unique())\n",
    "    wSel['Code'].options = ['ALL'] + codes\n",
    "    wSel['Code'].value = ['ALL']   \n",
    "wSel['Asset'].observe(update_Code, 'value')"
   ]
  },
  {
   "cell_type": "code",
   "execution_count": 7,
   "metadata": {},
   "outputs": [],
   "source": [
    "# @hidden_cell\n",
    "def plot_filtered(field= wFields, **kwargs):\n",
    "    global select, select0\n",
    "    select = df\n",
    "    flds = {fld: values for fld, values in kwargs.items() if not 'ALL' in values}\n",
    "    #print(flds)\n",
    "    for fld, values in flds.items():\n",
    "        if isinstance(values, str):\n",
    "            values = [values]\n",
    "        if 'mask' in locals(): \n",
    "            mask = mask & df[fld].isin(values)\n",
    "        else:\n",
    "            mask = df[fld].isin(values)\n",
    "    if 'mask' in locals():\n",
    "        select = df[mask]\n",
    "        gp = ['PtfDate'] + list(flds.keys())\n",
    "    else:\n",
    "        gp = ['PtfDate']\n",
    "    select = select.groupby(gp)[wFields.value].sum()\n",
    "    if flds:\n",
    "        select = select.unstack(0).T\n",
    "        if wFields.value in ['pl', 'rv', 'dir']:\n",
    "            select= select.cumsum()\n",
    "    if select.empty or not select.any().any():\n",
    "        plt.gca().remove();\n",
    "    else:\n",
    "        if 'Code' in select.columns.names:\n",
    "            # summed by codes\n",
    "            select0 = select.stack('Code').groupby('PtfDate').sum()\n",
    "            ax0= select0.plot(figsize= (16, 9), title= wFields.value + f', as of {select.index[-1]:%d %b %Y}')\n",
    "            ax0.yaxis.tick_right()\n",
    "            ax0.hlines(0, *ax0.xaxis.get_data_interval(), linewidth = 2.0, color='r');        \n",
    "        # Details by codes\n",
    "        ax= select.plot(figsize= (16, 9), title= wFields.value + f' (detailed by Code), as of {select.index[-1]:%d %b %Y}')\n",
    "        ax.yaxis.tick_right()\n",
    "        ax.hlines(0, *ax.xaxis.get_data_interval(), linewidth = 2.0, color='r');\n",
    "        \n",
    "    return kwargs\n",
    "w = widgets.interactive(plot_filtered, **wSel)"
   ]
  },
  {
   "cell_type": "code",
   "execution_count": 8,
   "metadata": {},
   "outputs": [
    {
     "data": {
      "application/vnd.jupyter.widget-view+json": {
       "model_id": "60333426e5bd42d29341571d10bc2d27",
       "version_major": 2,
       "version_minor": 0
      },
      "text/plain": [
       "VBox(children=(ToggleButtons(description='Fields', options=('pl', 'rv', 'dir', 'deltaAUM', 'gammaAUM', 'vegaAU…"
      ]
     },
     "metadata": {},
     "output_type": "display_data"
    }
   ],
   "source": [
    "display(VBox([wFields, \n",
    "              widgets.Label('Please select filters'),\n",
    "              #HBox(w.children[:-1]), \n",
    "              HBox(list(wSel.values())), \n",
    "              w.children[-1]]))"
   ]
  },
  {
   "cell_type": "markdown",
   "metadata": {},
   "source": [
    "You can view detail of the plot in the Dataframe \"select\":"
   ]
  },
  {
   "cell_type": "code",
   "execution_count": 9,
   "metadata": {},
   "outputs": [],
   "source": [
    "# tail of the plot\n",
    "if 'select' in globals():\n",
    "    display(round(select.fillna(method= 'pad').tail(), 1))"
   ]
  }
 ],
 "metadata": {
  "kernelspec": {
   "display_name": "Python 3",
   "language": "python",
   "name": "python3"
  },
  "language_info": {
   "codemirror_mode": {
    "name": "ipython",
    "version": 3
   },
   "file_extension": ".py",
   "mimetype": "text/x-python",
   "name": "python",
   "nbconvert_exporter": "python",
   "pygments_lexer": "ipython3",
   "version": "3.6.3"
  }
 },
 "nbformat": 4,
 "nbformat_minor": 2
}
