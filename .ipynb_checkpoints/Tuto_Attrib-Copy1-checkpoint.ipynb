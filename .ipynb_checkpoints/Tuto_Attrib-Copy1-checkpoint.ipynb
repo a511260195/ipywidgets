{
 "cells": [
  {
   "cell_type": "markdown",
   "metadata": {},
   "source": [
    "# Plot Attrib Perf and historical risk"
   ]
  },
  {
   "cell_type": "code",
   "execution_count": 1,
   "metadata": {},
   "outputs": [],
   "source": [
    "# import standard libs\n",
    "from IPython.display import display\n",
    "#from IPython.core.debugger import set_trace as bp\n",
    "#import datetime\n",
    "\n",
    "# import in-house lib\n",
    "import updPosesHT4 as upd\n",
    "\n",
    "# import python scientific stack\n",
    "import pandas as pd\n",
    "import numpy as np\n",
    "#import datetime\n",
    "\n",
    "import matplotlib.pyplot  as plt\n",
    "import seaborn as sns\n",
    "sns.set_style('whitegrid')\n",
    "sns.set_context('talk')\n",
    "\n",
    "# import visual tools\n",
    "#import bqplot as bq\n",
    "#import plotly.graph_objs as go\n",
    "#import plotly\n",
    "#from plotly.offline import download_plotlyjs, init_notebook_mode, plot, iplot\n",
    "#init_notebook_mode(connected=True)\n",
    "\n",
    "# import util libs\n",
    "import ipywidgets as widgets\n",
    "from ipywidgets import Button, HBox, VBox\n",
    "%matplotlib inline"
   ]
  },
  {
   "cell_type": "markdown",
   "metadata": {},
   "source": [
    "Toggle output scrolling of selected cells"
   ]
  },
  {
   "cell_type": "code",
   "execution_count": 2,
   "metadata": {},
   "outputs": [
    {
     "data": {
      "application/javascript": [
       "require(\n",
       "    [\"notebook/js/outputarea\"],\n",
       "    function (oa) {\n",
       "    oa.OutputArea.auto_scroll_threshold = -1;\n",
       "    console.log(\"Setting auto_scroll_threshold to -1\");\n",
       "    });"
      ],
      "text/plain": [
       "<IPython.core.display.Javascript object>"
      ]
     },
     "metadata": {},
     "output_type": "display_data"
    }
   ],
   "source": [
    "%%javascript\n",
    "require(\n",
    "    [\"notebook/js/outputarea\"],\n",
    "    function (oa) {\n",
    "    oa.OutputArea.auto_scroll_threshold = -1;\n",
    "    console.log(\"Setting auto_scroll_threshold to -1\");\n",
    "    });"
   ]
  },
  {
   "cell_type": "code",
   "execution_count": 12,
   "metadata": {},
   "outputs": [],
   "source": [
    "start_date, end_date = pd.datetime(2017,1,1), pd.datetime.today()"
   ]
  },
  {
   "cell_type": "code",
   "execution_count": 13,
   "metadata": {},
   "outputs": [
    {
     "name": "stdout",
     "output_type": "stream",
     "text": [
      "Loading Data from 01,Jan 2017 to 16,Jul 2018\n"
     ]
    }
   ],
   "source": [
    "print('Loading Data from {:%d,%b %Y} to {:%d,%b %Y}'.format(start_date, end_date))\n",
    "df = upd.getPosesRpt(start_date, end_date, 1.0).reset_index()\n",
    "df = df.drop(df[df.PM=='PTF'].index)"
   ]
  },
  {
   "cell_type": "code",
   "execution_count": 5,
   "metadata": {},
   "outputs": [],
   "source": [
    "def wSelectMultiple(df, fields):\n",
    "    return {fld: widgets.SelectMultiple(options= ['ALL'] + elts, \n",
    "                                        value= ['ALL'],\n",
    "                                        rows= min(len(elts)+1, 8),\n",
    "                                        description= fld)\n",
    "                    for fld, elts in \n",
    "                        ((fld, list(df[fld].sort_values().unique())) for fld in fields)}"
   ]
  },
  {
   "cell_type": "code",
   "execution_count": 14,
   "metadata": {},
   "outputs": [],
   "source": [
    "flds = ['Asset', 'PM', 'PtfId', 'Code']\n",
    "wSel = wSelectMultiple(df.reset_index(), flds)\n",
    "wSel['FundReference'] = widgets.ToggleButtons(options= ['DGA', 'ITX3'])\n",
    "wFields = widgets.ToggleButtons(options=['pl', 'rv', 'dir', 'deltaAUM', 'gammaAUM', 'vegaAUMbp', 'thetaAUMbp', 'bpvEur'],\n",
    "    description='Fields',\n",
    "    tooltips=['PL total in bps', 'PL Relative Value in bps of slow', 'PL eq. benchmark in bps'],)"
   ]
  },
  {
   "cell_type": "code",
   "execution_count": 15,
   "metadata": {},
   "outputs": [],
   "source": [
    "def update_Code(*args):\n",
    "    #print(args)\n",
    "    codes = list(df[df['Asset'].isin(list(args[0][\"new\"]))].Code.sort_values().unique())\n",
    "    #codes = list(df.query(f'Asset in {list(args[0][\"new\"])}').Code.unique())\n",
    "    wSel['Code'].options = ['ALL'] + codes\n",
    "    wSel['Code'].value = ['ALL']   \n",
    "wSel['Asset'].observe(update_Code, 'value')"
   ]
  },
  {
   "cell_type": "code",
   "execution_count": 16,
   "metadata": {},
   "outputs": [],
   "source": [
    "def plot_filtered(field= wFields, **kwargs):\n",
    "    global select\n",
    "    select = df\n",
    "    flds = {fld: values for fld, values in kwargs.items() if not 'ALL' in values}\n",
    "    #print(flds)\n",
    "    for fld, values in flds.items():\n",
    "        if isinstance(values, str):\n",
    "            values = [values]\n",
    "        if 'mask' in locals(): \n",
    "            mask = mask & df[fld].isin(values)\n",
    "        else:\n",
    "            mask = df[fld].isin(values)\n",
    "    if 'mask' in locals():\n",
    "        select = df[mask]\n",
    "        gp = ['PtfDate'] + list(flds.keys())\n",
    "    else:\n",
    "        gp = ['PtfDate']\n",
    "    select = select.groupby(gp)[wFields.value].sum()\n",
    "    if flds:\n",
    "        select = select.unstack(0).T\n",
    "        if wFields.value in ['pl', 'rv', 'dir']:\n",
    "            select= select.cumsum()\n",
    "    if select.empty or not select.any().any():\n",
    "        plt.gca().remove();\n",
    "    else:\n",
    "        ax= select.plot(figsize= (16, 9), title= wFields.value)\n",
    "        ax.yaxis.tick_right()\n",
    "        ax.hlines(0, *ax.xaxis.get_data_interval(), linewidth = 2.0, color='r');\n",
    "        \n",
    "    return kwargs\n",
    "w = widgets.interactive(plot_filtered, **wSel)"
   ]
  },
  {
   "cell_type": "code",
   "execution_count": 17,
   "metadata": {},
   "outputs": [
    {
     "data": {
      "application/vnd.jupyter.widget-view+json": {
       "model_id": "40bd6e34f3fc44488118334eeff04ac2",
       "version_major": 2,
       "version_minor": 0
      },
      "text/plain": [
       "VBox(children=(ToggleButtons(description='Fields', options=('pl', 'rv', 'dir', 'deltaAUM', 'gammaAUM', 'vegaAU…"
      ]
     },
     "metadata": {},
     "output_type": "display_data"
    }
   ],
   "source": [
    "display(VBox([wFields, \n",
    "              widgets.Label('Please select filters'),\n",
    "              #HBox(w.children[:-1]), \n",
    "              HBox(list(wSel.values())), \n",
    "              w.children[-1]]))"
   ]
  }
 ],
 "metadata": {
  "kernelspec": {
   "display_name": "Python 3",
   "language": "python",
   "name": "python3"
  },
  "language_info": {
   "codemirror_mode": {
    "name": "ipython",
    "version": 3
   },
   "file_extension": ".py",
   "mimetype": "text/x-python",
   "name": "python",
   "nbconvert_exporter": "python",
   "pygments_lexer": "ipython3",
   "version": "3.6.3"
  }
 },
 "nbformat": 4,
 "nbformat_minor": 2
}
