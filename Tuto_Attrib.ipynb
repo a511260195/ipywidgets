{
 "cells": [
  {
   "cell_type": "markdown",
   "metadata": {},
   "source": [
    "# Plot Attrib Perf and historical risk"
   ]
  },
  {
   "cell_type": "markdown",
   "metadata": {},
   "source": [
    "<script>\n",
    "  function code_toggle() {\n",
    "    if (code_shown){\n",
    "      $('div.input').hide('500');\n",
    "      $('#toggleButton').val('Show Code')\n",
    "    } else {\n",
    "      $('div.input').show('500');\n",
    "      $('#toggleButton').val('Hide Code')\n",
    "    }\n",
    "    code_shown = !code_shown\n",
    "  }\n",
    "\n",
    "  $( document ).ready(function(){\n",
    "    code_shown=false;\n",
    "    $('div.input').hide()\n",
    "  });\n",
    "</script>\n",
    "<form action=\"javascript:code_toggle()\"><input type=\"submit\" id=\"toggleButton\" value=\"Show Code\"></form>"
   ]
  },
  {
   "cell_type": "markdown",
   "metadata": {},
   "source": [
    "<script>\n",
    "code_show=true; \n",
    "function code_toggle() {\n",
    " if (code_show){\n",
    " $('div.input').hide();\n",
    " } else {\n",
    " $('div.input').show();\n",
    " }\n",
    " code_show = !code_show\n",
    "} \n",
    "$( document ).ready(code_toggle);\n",
    "</script>"
   ]
  },
  {
   "cell_type": "markdown",
   "metadata": {},
   "source": [
    "The raw code for this IPython notebook is by default hidden for easier reading.To toggle on/off the raw code, click <a href=\"javascript:code_toggle()\">here</a>."
   ]
  },
  {
   "cell_type": "code",
   "execution_count": 1,
   "metadata": {},
   "outputs": [],
   "source": [
    "from IPython.display import display, HTML"
   ]
  },
  {
   "cell_type": "code",
   "execution_count": 3,
   "metadata": {},
   "outputs": [],
   "source": [
    "%matplotlib inline\n",
    "\n",
    "#import matplotlib\n",
    "#matplotlib.use('Qt5Agg')"
   ]
  },
  {
   "cell_type": "code",
   "execution_count": 4,
   "metadata": {},
   "outputs": [],
   "source": [
    "# import standard libs\n",
    "from IPython.display import display\n",
    "#from IPython.core.debugger import set_trace as bp\n",
    "#import datetime\n",
    "\n",
    "# import in-house lib\n",
    "import updPosesHT4 as upd\n",
    "\n",
    "# import python scientific stack\n",
    "import pandas as pd\n",
    "import numpy as np\n",
    "#import datetime\n",
    "\n",
    "import matplotlib.pyplot  as plt\n",
    "import seaborn as sns\n",
    "sns.set_style('whitegrid')\n",
    "sns.set_context('talk')\n",
    "\n",
    "# import visual tools\n",
    "#import bqplot as bq\n",
    "#import plotly.graph_objs as go\n",
    "#import plotly\n",
    "#from plotly.offline import download_plotlyjs, init_notebook_mode, plot, iplot\n",
    "#init_notebook_mode(connected=True)\n",
    "\n",
    "# import util libs\n",
    "import ipywidgets as widgets\n",
    "from ipywidgets import Button, HBox, VBox\n",
    "\n"
   ]
  },
  {
   "cell_type": "markdown",
   "metadata": {},
   "source": [
    "Toggle output scrolling of selected cells"
   ]
  },
  {
   "cell_type": "code",
   "execution_count": 5,
   "metadata": {},
   "outputs": [],
   "source": [
    "start_date, end_date = pd.datetime(2017,1,1), pd.datetime.today()"
   ]
  },
  {
   "cell_type": "code",
   "execution_count": 6,
   "metadata": {},
   "outputs": [
    {
     "name": "stdout",
     "output_type": "stream",
     "text": [
      "Loading Data from 01,Jan 2017 to 17,Jul 2018\n"
     ]
    }
   ],
   "source": [
    "print('Loading Data from {:%d,%b %Y} to {:%d,%b %Y}'.format(start_date, end_date))\n",
    "df = upd.getPosesRpt(start_date, end_date, 1.0).reset_index()\n",
    "df = df.drop(df[df.PM=='PTF'].index)"
   ]
  },
  {
   "cell_type": "code",
   "execution_count": 7,
   "metadata": {},
   "outputs": [],
   "source": [
    "def wSelectMultiple(df, fields):\n",
    "    return {fld: widgets.SelectMultiple(options= ['ALL'] + elts, \n",
    "                                        value= ['ALL'],\n",
    "                                        rows= min(len(elts)+1, 8),\n",
    "                                        description= fld)\n",
    "                    for fld, elts in \n",
    "                        ((fld, list(df[fld].sort_values().unique())) for fld in fields)}"
   ]
  },
  {
   "cell_type": "code",
   "execution_count": 8,
   "metadata": {},
   "outputs": [],
   "source": [
    "flds = ['Asset', 'PM', 'PtfId', 'Code']\n",
    "wSel = wSelectMultiple(df.reset_index(), flds)\n",
    "wSel['FundReference'] = widgets.ToggleButtons(options= ['DGA', 'ITX3'])\n",
    "wFields = widgets.ToggleButtons(options=['pl', 'rv', 'dir', 'deltaAUM', 'gammaAUM', 'vegaAUMbp', 'thetaAUMbp', 'bpvEur'],\n",
    "    description='Fields',\n",
    "    tooltips=['PL total in bps', 'PL Relative Value in bps of slow', 'PL eq. benchmark in bps'],)"
   ]
  },
  {
   "cell_type": "code",
   "execution_count": 9,
   "metadata": {},
   "outputs": [],
   "source": [
    "def update_Code(*args):\n",
    "    #print(args)\n",
    "    codes = list(df[df['Asset'].isin(list(args[0][\"new\"]))].Code.sort_values().unique())\n",
    "    #codes = list(df.query(f'Asset in {list(args[0][\"new\"])}').Code.unique())\n",
    "    wSel['Code'].options = ['ALL'] + codes\n",
    "    wSel['Code'].value = ['ALL']   \n",
    "wSel['Asset'].observe(update_Code, 'value')"
   ]
  },
  {
   "cell_type": "code",
   "execution_count": 10,
   "metadata": {},
   "outputs": [
    {
     "name": "stdout",
     "output_type": "stream",
     "text": [
      "Available matplotlib backends: ['tk', 'gtk', 'gtk3', 'wx', 'qt', 'qt4', 'qt5', 'osx', 'nbagg', 'notebook', 'agg', 'inline', 'ipympl']\n"
     ]
    }
   ],
   "source": [
    "%matplotlib -l"
   ]
  },
  {
   "cell_type": "code",
   "execution_count": 11,
   "metadata": {},
   "outputs": [],
   "source": [
    "# @hidden_cell\n",
    "def plot_filtered(field= wFields, **kwargs):\n",
    "    global select, select0\n",
    "    select = df\n",
    "    flds = {fld: values for fld, values in kwargs.items() if not 'ALL' in values}\n",
    "    #print(flds)\n",
    "    for fld, values in flds.items():\n",
    "        if isinstance(values, str):\n",
    "            values = [values]\n",
    "        if 'mask' in locals(): \n",
    "            mask = mask & df[fld].isin(values)\n",
    "        else:\n",
    "            mask = df[fld].isin(values)\n",
    "    if 'mask' in locals():\n",
    "        select = df[mask]\n",
    "        gp = ['PtfDate'] + list(flds.keys())\n",
    "    else:\n",
    "        gp = ['PtfDate']\n",
    "    select = select.groupby(gp)[wFields.value].sum()\n",
    "    if flds:\n",
    "        select = select.unstack(0).T\n",
    "        if wFields.value in ['pl', 'rv', 'dir']:\n",
    "            select= select.cumsum()\n",
    "    if select.empty or not select.any().any():\n",
    "        plt.gca().remove();\n",
    "    else:\n",
    "        if 'Code' in select.columns.names:\n",
    "            # summed by codes\n",
    "            select0 = select.stack('Code').groupby('PtfDate').sum()\n",
    "            ax0= select0.plot(figsize= (16, 9), title= wFields.value + f', as of {select.index[-1]:%d %b %Y}')\n",
    "            ax0.yaxis.tick_right()\n",
    "            ax0.hlines(0, *ax0.xaxis.get_data_interval(), linewidth = 2.0, color='r');        \n",
    "        # Details by codes\n",
    "        ax= select.plot(figsize= (16, 9), title= wFields.value + f' (detailed by Code), as of {select.index[-1]:%d %b %Y}')\n",
    "        ax.yaxis.tick_right()\n",
    "        ax.hlines(0, *ax.xaxis.get_data_interval(), linewidth = 2.0, color='r');\n",
    "        \n",
    "    return kwargs\n",
    "w = widgets.interactive(plot_filtered, **wSel)"
   ]
  },
  {
   "cell_type": "code",
   "execution_count": 12,
   "metadata": {},
   "outputs": [
    {
     "data": {
      "application/vnd.jupyter.widget-view+json": {
       "model_id": "14cca447ce124cb3a65c2a6dd617d159",
       "version_major": 2,
       "version_minor": 0
      },
      "text/plain": [
       "VBox(children=(ToggleButtons(description='Fields', options=('pl', 'rv', 'dir', 'deltaAUM', 'gammaAUM', 'vegaAU…"
      ]
     },
     "metadata": {},
     "output_type": "display_data"
    }
   ],
   "source": [
    "display(VBox([wFields, \n",
    "              widgets.Label('Please select filters'),\n",
    "              #HBox(w.children[:-1]), \n",
    "              HBox(list(wSel.values())), \n",
    "              w.children[-1]]))"
   ]
  },
  {
   "cell_type": "markdown",
   "metadata": {},
   "source": [
    "You can view detail of the plot in the Dataframe \"select\":"
   ]
  },
  {
   "cell_type": "code",
   "execution_count": 30,
   "metadata": {},
   "outputs": [
    {
     "data": {
      "text/html": [
       "<div>\n",
       "<style scoped>\n",
       "    .dataframe tbody tr th:only-of-type {\n",
       "        vertical-align: middle;\n",
       "    }\n",
       "\n",
       "    .dataframe tbody tr th {\n",
       "        vertical-align: top;\n",
       "    }\n",
       "\n",
       "    .dataframe thead tr th {\n",
       "        text-align: left;\n",
       "    }\n",
       "\n",
       "    .dataframe thead tr:last-of-type th {\n",
       "        text-align: right;\n",
       "    }\n",
       "</style>\n",
       "<table border=\"1\" class=\"dataframe\">\n",
       "  <thead>\n",
       "    <tr>\n",
       "      <th>PM</th>\n",
       "      <th>CHC</th>\n",
       "    </tr>\n",
       "    <tr>\n",
       "      <th>FundReference</th>\n",
       "      <th>DGA</th>\n",
       "    </tr>\n",
       "    <tr>\n",
       "      <th>PtfDate</th>\n",
       "      <th></th>\n",
       "    </tr>\n",
       "  </thead>\n",
       "  <tbody>\n",
       "    <tr>\n",
       "      <th>2018-07-10</th>\n",
       "      <td>370.6</td>\n",
       "    </tr>\n",
       "    <tr>\n",
       "      <th>2018-07-11</th>\n",
       "      <td>355.1</td>\n",
       "    </tr>\n",
       "    <tr>\n",
       "      <th>2018-07-12</th>\n",
       "      <td>356.7</td>\n",
       "    </tr>\n",
       "    <tr>\n",
       "      <th>2018-07-13</th>\n",
       "      <td>362.2</td>\n",
       "    </tr>\n",
       "    <tr>\n",
       "      <th>2018-07-16</th>\n",
       "      <td>367.8</td>\n",
       "    </tr>\n",
       "  </tbody>\n",
       "</table>\n",
       "</div>"
      ],
      "text/plain": [
       "PM               CHC\n",
       "FundReference    DGA\n",
       "PtfDate             \n",
       "2018-07-10     370.6\n",
       "2018-07-11     355.1\n",
       "2018-07-12     356.7\n",
       "2018-07-13     362.2\n",
       "2018-07-16     367.8"
      ]
     },
     "metadata": {},
     "output_type": "display_data"
    }
   ],
   "source": [
    "# tail of the plot\n",
    "if 'select' in globals():\n",
    "    display(round(select.fillna(method= 'pad').tail(), 1))"
   ]
  },
  {
   "cell_type": "code",
   "execution_count": 52,
   "metadata": {},
   "outputs": [
    {
     "name": "stdout",
     "output_type": "stream",
     "text": [
      "This application is used to convert notebook files (*.ipynb) to various other\n",
      "formats.\n",
      "\n",
      "WARNING: THE COMMANDLINE INTERFACE MAY CHANGE IN FUTURE RELEASES.\n",
      "\n",
      "Options\n",
      "\n",
      "-------\n",
      "\n",
      "\n",
      "\n",
      "Arguments that take values are actually convenience aliases to full\n",
      "Configurables, whose aliases are listed on the help line. For more information\n",
      "on full configurables, see '--help-all'.\n",
      "\n",
      "\n",
      "--debug\n",
      "\n",
      "    set log level to logging.DEBUG (maximize logging output)\n",
      "\n",
      "--generate-config\n",
      "\n",
      "    generate default config file\n",
      "\n",
      "-y\n",
      "\n",
      "    Answer yes to any questions instead of prompting.\n",
      "\n",
      "--execute\n",
      "\n",
      "    Execute the notebook prior to export.\n",
      "\n",
      "--allow-errors\n",
      "\n",
      "    Continue notebook execution even if one of the cells throws an error and include the error message in the cell output (the default behaviour is to abort conversion). This flag is only relevant if '--execute' was specified, too.\n",
      "\n",
      "--stdin\n",
      "\n",
      "    read a single notebook file from stdin. Write the resulting notebook with default basename 'notebook.*'\n",
      "\n",
      "--stdout\n",
      "\n",
      "    Write notebook output to stdout instead of files.\n",
      "\n",
      "--inplace\n",
      "\n",
      "    Run nbconvert in place, overwriting the existing notebook (only \n",
      "    relevant when converting to notebook format)\n",
      "\n",
      "--clear-output\n",
      "\n",
      "    Clear output of current file and save in place, \n",
      "    overwriting the existing notebook.\n",
      "\n",
      "--no-prompt\n",
      "\n",
      "    Exclude input and output prompts from converted document.\n",
      "--log-level=<Enum> (Application.log_level)\n",
      "\n",
      "    Default: 30\n",
      "\n",
      "    Choices: (0, 10, 20, 30, 40, 50, 'DEBUG', 'INFO', 'WARN', 'ERROR', 'CRITICAL')\n",
      "\n",
      "    Set the log level by value or name.\n",
      "\n",
      "--config=<Unicode> (JupyterApp.config_file)\n",
      "\n",
      "    Default: ''\n",
      "\n",
      "    Full path of a config file.\n",
      "\n",
      "--to=<Unicode> (NbConvertApp.export_format)\n",
      "\n",
      "    Default: 'html'\n",
      "\n",
      "    The export format to be used, either one of the built-in formats, or a\n",
      "\n",
      "    dotted object name that represents the import path for an `Exporter` class\n",
      "\n",
      "--template=<Unicode> (TemplateExporter.template_file)\n",
      "\n",
      "    Default: ''\n",
      "\n",
      "    Name of the template file to use\n",
      "\n",
      "--writer=<DottedObjectName> (NbConvertApp.writer_class)\n",
      "\n",
      "    Default: 'FilesWriter'\n",
      "\n",
      "    Writer class used to write the  results of the conversion\n",
      "\n",
      "--post=<DottedOrNone> (NbConvertApp.postprocessor_class)\n",
      "\n",
      "    Default: ''\n",
      "\n",
      "    PostProcessor class used to write the results of the conversion\n",
      "\n",
      "--output=<Unicode> (NbConvertApp.output_base)\n",
      "\n",
      "    Default: ''\n",
      "\n",
      "    overwrite base name use for output files. can only be used when converting\n",
      "\n",
      "    one notebook at a time.\n",
      "\n",
      "--output-dir=<Unicode> (FilesWriter.build_directory)\n",
      "\n",
      "    Default: ''\n",
      "\n",
      "    Directory to write output(s) to. Defaults to output to the directory of each\n",
      "\n",
      "    notebook. To recover previous default behaviour (outputting to the current\n",
      "\n",
      "    working directory) use . as the flag value.\n",
      "\n",
      "--reveal-prefix=<Unicode> (SlidesExporter.reveal_url_prefix)\n",
      "\n",
      "    Default: ''\n",
      "\n",
      "    The URL prefix for reveal.js. This can be a a relative URL for a local copy\n",
      "\n",
      "    of reveal.js, or point to a CDN.\n",
      "\n",
      "    For speaker notes to work, a local reveal.js prefix must be used.\n",
      "\n",
      "--nbformat=<Enum> (NotebookExporter.nbformat_version)\n",
      "\n",
      "    Default: 4\n",
      "\n",
      "    Choices: [1, 2, 3, 4]\n",
      "\n",
      "    The nbformat version to write. Use this to downgrade notebooks.\n",
      "\n",
      "To see all available configurables, use `--help-all`\n",
      "\n",
      "Examples\n",
      "--------\n",
      "\n",
      "    The simplest way to use nbconvert is\n",
      "    \n",
      "    > jupyter nbconvert mynotebook.ipynb\n",
      "    \n",
      "    which will convert mynotebook.ipynb to the default format (probably HTML).\n",
      "    \n",
      "    You can specify the export format with `--to`.\n",
      "    Options include ['asciidoc', 'custom', 'html', 'latex', 'markdown', 'notebook', 'pdf', 'python', 'rst', 'script', 'slides']\n",
      "    \n",
      "    > jupyter nbconvert --to latex mynotebook.ipynb\n",
      "    \n",
      "    Both HTML and LaTeX support multiple output templates. LaTeX includes\n",
      "    'base', 'article' and 'report'.  HTML includes 'basic' and 'full'. You\n",
      "    can specify the flavor of the format used.\n",
      "    \n",
      "    > jupyter nbconvert --to html --template basic mynotebook.ipynb\n",
      "    \n",
      "    You can also pipe the output to stdout, rather than a file\n",
      "    \n",
      "    > jupyter nbconvert mynotebook.ipynb --stdout\n",
      "    \n",
      "    PDF is generated via latex\n",
      "    \n",
      "    > jupyter nbconvert mynotebook.ipynb --to pdf\n",
      "    \n",
      "    You can get (and serve) a Reveal.js-powered slideshow\n",
      "    \n",
      "    > jupyter nbconvert myslides.ipynb --to slides --post serve\n",
      "    \n",
      "    Multiple notebooks can be given at the command line in a couple of \n",
      "    different ways:\n",
      "    \n",
      "    > jupyter nbconvert notebook*.ipynb\n",
      "    > jupyter nbconvert notebook1.ipynb notebook2.ipynb\n",
      "    \n",
      "    or you can specify the notebooks list in a config file, containing::\n",
      "    \n",
      "        c.NbConvertApp.notebooks = [\"my_notebook.ipynb\"]\n",
      "    \n",
      "    > jupyter nbconvert --config mycfg.py\n",
      "\n"
     ]
    }
   ],
   "source": [
    "!jupyter nbconvert --help"
   ]
  },
  {
   "cell_type": "code",
   "execution_count": 46,
   "metadata": {},
   "outputs": [
    {
     "name": "stdout",
     "output_type": "stream",
     "text": [
      " Volume in drive C is OSDisk\n",
      " Volume Serial Number is EC8E-52D6\n",
      "\n",
      " Directory of C:\\Users\\fm391.CORP\\GMdev\\TP\\ipywidgets\n",
      "\n",
      "17/07/2018  13:27    <DIR>          .\n",
      "17/07/2018  13:27    <DIR>          ..\n",
      "16/07/2018  15:03    <DIR>          .ipynb_checkpoints\n",
      "12/07/2018  14:57            77 518 download.png\n",
      "11/07/2018  22:20        13 327 027 getPosesRpt1.pkl\n",
      "11/07/2018  22:20        15 375 923 getPosesRpt2.pkl\n",
      "12/07/2018  20:01            27 586 Perf_RT.ipynb\n",
      "10/07/2018  17:39             6 567 Tutorial_Portfolio_Vizualisation.ipynb\n",
      "16/07/2018  15:05             7 121 Tuto_Attrib-Copy1.ipynb\n",
      "17/07/2018  13:27            17 270 Tuto_Attrib.ipynb\n",
      "10/07/2018  17:41            15 366 vizualise.py\n",
      "               8 File(s)     28 854 378 bytes\n",
      "               3 Dir(s)  29 843 013 632 bytes free\n"
     ]
    }
   ],
   "source": [
    "!dir"
   ]
  },
  {
   "cell_type": "code",
   "execution_count": 53,
   "metadata": {},
   "outputs": [
    {
     "name": "stderr",
     "output_type": "stream",
     "text": [
      "[NbConvertApp] Converting notebook Tuto_Attrib.ipynb to html\n",
      "[NbConvertApp] Writing 280972 bytes to Tuto_Attrib.html\n"
     ]
    }
   ],
   "source": [
    "!jupyter nbconvert Tuto_Attrib.ipynb --to html"
   ]
  },
  {
   "cell_type": "code",
   "execution_count": null,
   "metadata": {},
   "outputs": [],
   "source": []
  }
 ],
 "metadata": {
  "kernelspec": {
   "display_name": "Python 3",
   "language": "python",
   "name": "python3"
  },
  "language_info": {
   "codemirror_mode": {
    "name": "ipython",
    "version": 3
   },
   "file_extension": ".py",
   "mimetype": "text/x-python",
   "name": "python",
   "nbconvert_exporter": "python",
   "pygments_lexer": "ipython3",
   "version": "3.6.3"
  }
 },
 "nbformat": 4,
 "nbformat_minor": 2
}
