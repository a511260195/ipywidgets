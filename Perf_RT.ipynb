{
 "cells": [
  {
   "cell_type": "markdown",
   "metadata": {},
   "source": [
    "# Plot Attrib Perf and historical risk"
   ]
  },
  {
   "cell_type": "code",
   "execution_count": 8,
   "metadata": {},
   "outputs": [],
   "source": [
    "from IPython.display import display\n",
    "from updPosesTL import getPosesRT, cnxr\n",
    "import pandas as pd\n",
    "\n",
    "import matplotlib.pyplot  as plt\n",
    "import seaborn as sns\n",
    "sns.set_style('whitegrid')\n",
    "sns.set_context('talk')\n",
    "\n",
    "import ipywidgets as widgets\n",
    "from ipywidgets import Button, HBox, VBox\n",
    "\n",
    "%matplotlib inline"
   ]
  },
  {
   "cell_type": "markdown",
   "metadata": {},
   "source": [
    "Toggle output scrolling of selected cells"
   ]
  },
  {
   "cell_type": "raw",
   "metadata": {},
   "source": [
    "%%javascript\n",
    "require(\n",
    "    [\"notebook/js/outputarea\"],\n",
    "    function (oa) {\n",
    "    oa.OutputArea.auto_scroll_threshold = -1;\n",
    "    console.log(\"Setting auto_scroll_threshold to -1\");\n",
    "    });"
   ]
  },
  {
   "cell_type": "code",
   "execution_count": 105,
   "metadata": {},
   "outputs": [
    {
     "name": "stdout",
     "output_type": "stream",
     "text": [
      "Loading Current Ptf at 2018-07-12 19:59:30.220722\n"
     ]
    }
   ],
   "source": [
    "Fund = 'DGA'\n",
    "AUM = 83_460_000\n",
    "\n",
    "flds = ['Asset', 'PM', 'PtfId', ]\n",
    "fldsComp = ['PlEur', 'DeltaEur', 'GammaEur', 'BpvEur']\n",
    "\n",
    "print(f'Loading Current Ptf at {pd.datetime.today()}')\n",
    "df = getPosesRT(cnxr)[lambda x: (x.Fund== Fund) & (x.PM != 'PTF')]"
   ]
  },
  {
   "cell_type": "code",
   "execution_count": 106,
   "metadata": {},
   "outputs": [],
   "source": [
    "df.loc[:, fldsComp] = df.loc[:, fldsComp] / AUM\n",
    "#df.PlEur *= 1e4"
   ]
  },
  {
   "cell_type": "code",
   "execution_count": 83,
   "metadata": {},
   "outputs": [],
   "source": [
    "def wSelectMultiple(df, fields):\n",
    "    return {fld: widgets.SelectMultiple(options= ['ALL'] + elts, \n",
    "                                        value= ['ALL'],\n",
    "                                        rows= min(len(elts)+1, 8),\n",
    "                                        description= fld)\n",
    "                    for fld, elts in \n",
    "                        ((fld, list(df[fld].sort_values().unique())) for fld in fields)}"
   ]
  },
  {
   "cell_type": "code",
   "execution_count": 100,
   "metadata": {},
   "outputs": [],
   "source": [
    "wSel = wSelectMultiple(df, flds)\n",
    "wFields = widgets.ToggleButtons(options= fldsComp, description='Fields', tooltips=[],)\n",
    "wV = widgets.ToggleButtons(options= flds + ['Code'], description='Select Vertical field', tooltips=[],)\n",
    "wH = widgets.ToggleButtons(options= flds + ['Code'], description='Select Horizontal field', tooltips=[],)"
   ]
  },
  {
   "cell_type": "code",
   "execution_count": 108,
   "metadata": {},
   "outputs": [],
   "source": [
    "def plot_filtered(field= wFields, fldH= wH, fldV= wV, **kwargs):\n",
    "    if fldH == fldV:\n",
    "        return\n",
    "\n",
    "    global select\n",
    "    flds = {fld: values for fld, values in kwargs.items() if not 'ALL' in values}\n",
    "    for fld, values in flds.items():\n",
    "        if isinstance(values, str):\n",
    "            values = [values]\n",
    "        if 'mask' in locals(): \n",
    "            mask = mask & df[fld].isin(values)\n",
    "        else:\n",
    "            mask = df[fld].isin(values)\n",
    "    \n",
    "    if flds:\n",
    "        select = df[mask]\n",
    "    else:\n",
    "        select = df\n",
    "        \n",
    "    select = select.groupby([fldV, fldH])[field].sum().unstack()\n",
    "    f, ax = plt.subplots(figsize= (12,8))\n",
    "    sns.heatmap(select, ax= ax, cmap= cmap2, linewidths=0.5, square= False, robust= True, center= 0.0, annot= True, fmt= '.2%')\n",
    "    #display(select.head(10))\n",
    "    return kwargs\n",
    "\n",
    "    if select.empty or not select.any().any():\n",
    "        plt.gca().remove();\n",
    "    else:\n",
    "        ax= select.plot(figsize= (16, 9), title= field)\n",
    "        ax.yaxis.tick_right()\n",
    "        ax.hlines(0, *ax.xaxis.get_data_interval(), linewidth = 2.0, color='r');\n",
    "        \n",
    "    return kwargs\n",
    "w = widgets.interactive(plot_filtered, **wSel)"
   ]
  },
  {
   "cell_type": "code",
   "execution_count": 109,
   "metadata": {
    "scrolled": false
   },
   "outputs": [
    {
     "data": {
      "application/vnd.jupyter.widget-view+json": {
       "model_id": "ba7df9c413a04d5e9164e66e757a77cf",
       "version_major": 2,
       "version_minor": 0
      },
      "text/plain": [
       "VBox(children=(Label(value='Please select filters'), HBox(children=(SelectMultiple(description='Asset', index=…"
      ]
     },
     "metadata": {},
     "output_type": "display_data"
    }
   ],
   "source": [
    "display(VBox([widgets.Label('Please select filters'),\n",
    "              HBox(list(wSel.values())),\n",
    "              wFields,\n",
    "              HBox([wV, wH]),\n",
    "              w.children[-1]]))"
   ]
  },
  {
   "cell_type": "code",
   "execution_count": 79,
   "metadata": {
    "collapsed": true
   },
   "outputs": [
    {
     "data": {
      "text/html": [
       "<div>\n",
       "<style scoped>\n",
       "    .dataframe tbody tr th:only-of-type {\n",
       "        vertical-align: middle;\n",
       "    }\n",
       "\n",
       "    .dataframe tbody tr th {\n",
       "        vertical-align: top;\n",
       "    }\n",
       "\n",
       "    .dataframe thead th {\n",
       "        text-align: right;\n",
       "    }\n",
       "</style>\n",
       "<table border=\"1\" class=\"dataframe\">\n",
       "  <thead>\n",
       "    <tr style=\"text-align: right;\">\n",
       "      <th>PM</th>\n",
       "      <th>CHC</th>\n",
       "      <th>MLB</th>\n",
       "      <th>TAB</th>\n",
       "    </tr>\n",
       "    <tr>\n",
       "      <th>Code</th>\n",
       "      <th></th>\n",
       "      <th></th>\n",
       "      <th></th>\n",
       "    </tr>\n",
       "  </thead>\n",
       "  <tbody>\n",
       "    <tr>\n",
       "      <th>ES</th>\n",
       "      <td>-66559.829060</td>\n",
       "      <td>-598.290598</td>\n",
       "      <td>-6805.555556</td>\n",
       "    </tr>\n",
       "    <tr>\n",
       "      <th>FTSMIB</th>\n",
       "      <td>NaN</td>\n",
       "      <td>NaN</td>\n",
       "      <td>29625.000000</td>\n",
       "    </tr>\n",
       "    <tr>\n",
       "      <th>IB</th>\n",
       "      <td>12580.000000</td>\n",
       "      <td>NaN</td>\n",
       "      <td>NaN</td>\n",
       "    </tr>\n",
       "    <tr>\n",
       "      <th>MES</th>\n",
       "      <td>57115.384615</td>\n",
       "      <td>NaN</td>\n",
       "      <td>NaN</td>\n",
       "    </tr>\n",
       "    <tr>\n",
       "      <th>NDX</th>\n",
       "      <td>NaN</td>\n",
       "      <td>0.000000</td>\n",
       "      <td>-115256.410256</td>\n",
       "    </tr>\n",
       "    <tr>\n",
       "      <th>NH</th>\n",
       "      <td>NaN</td>\n",
       "      <td>NaN</td>\n",
       "      <td>-61301.657627</td>\n",
       "    </tr>\n",
       "    <tr>\n",
       "      <th>NKY</th>\n",
       "      <td>NaN</td>\n",
       "      <td>NaN</td>\n",
       "      <td>-11744.710106</td>\n",
       "    </tr>\n",
       "    <tr>\n",
       "      <th>OMX</th>\n",
       "      <td>NaN</td>\n",
       "      <td>NaN</td>\n",
       "      <td>-37781.927465</td>\n",
       "    </tr>\n",
       "    <tr>\n",
       "      <th>SMI</th>\n",
       "      <td>NaN</td>\n",
       "      <td>NaN</td>\n",
       "      <td>28626.921854</td>\n",
       "    </tr>\n",
       "    <tr>\n",
       "      <th>SX5E</th>\n",
       "      <td>18645.000000</td>\n",
       "      <td>600.000000</td>\n",
       "      <td>NaN</td>\n",
       "    </tr>\n",
       "    <tr>\n",
       "      <th>SX6P</th>\n",
       "      <td>7400.000000</td>\n",
       "      <td>NaN</td>\n",
       "      <td>NaN</td>\n",
       "    </tr>\n",
       "    <tr>\n",
       "      <th>SX7E</th>\n",
       "      <td>0.000000</td>\n",
       "      <td>0.000000</td>\n",
       "      <td>2812.500000</td>\n",
       "    </tr>\n",
       "    <tr>\n",
       "      <th>SXAP</th>\n",
       "      <td>NaN</td>\n",
       "      <td>NaN</td>\n",
       "      <td>14065.000000</td>\n",
       "    </tr>\n",
       "    <tr>\n",
       "      <th>SXDP</th>\n",
       "      <td>NaN</td>\n",
       "      <td>NaN</td>\n",
       "      <td>27095.000000</td>\n",
       "    </tr>\n",
       "    <tr>\n",
       "      <th>SXEP</th>\n",
       "      <td>-675.000000</td>\n",
       "      <td>NaN</td>\n",
       "      <td>5480.000000</td>\n",
       "    </tr>\n",
       "    <tr>\n",
       "      <th>SXKP</th>\n",
       "      <td>-3097.500000</td>\n",
       "      <td>NaN</td>\n",
       "      <td>-4000.000000</td>\n",
       "    </tr>\n",
       "    <tr>\n",
       "      <th>SXPP</th>\n",
       "      <td>-13200.000000</td>\n",
       "      <td>NaN</td>\n",
       "      <td>0.000000</td>\n",
       "    </tr>\n",
       "    <tr>\n",
       "      <th>VG</th>\n",
       "      <td>NaN</td>\n",
       "      <td>NaN</td>\n",
       "      <td>-9750.000000</td>\n",
       "    </tr>\n",
       "  </tbody>\n",
       "</table>\n",
       "</div>"
      ],
      "text/plain": [
       "PM               CHC         MLB            TAB\n",
       "Code                                           \n",
       "ES     -66559.829060 -598.290598   -6805.555556\n",
       "FTSMIB           NaN         NaN   29625.000000\n",
       "IB      12580.000000         NaN            NaN\n",
       "MES     57115.384615         NaN            NaN\n",
       "NDX              NaN    0.000000 -115256.410256\n",
       "NH               NaN         NaN  -61301.657627\n",
       "NKY              NaN         NaN  -11744.710106\n",
       "OMX              NaN         NaN  -37781.927465\n",
       "SMI              NaN         NaN   28626.921854\n",
       "SX5E    18645.000000  600.000000            NaN\n",
       "SX6P     7400.000000         NaN            NaN\n",
       "SX7E        0.000000    0.000000    2812.500000\n",
       "SXAP             NaN         NaN   14065.000000\n",
       "SXDP             NaN         NaN   27095.000000\n",
       "SXEP     -675.000000         NaN    5480.000000\n",
       "SXKP    -3097.500000         NaN   -4000.000000\n",
       "SXPP   -13200.000000         NaN       0.000000\n",
       "VG               NaN         NaN   -9750.000000"
      ]
     },
     "execution_count": 79,
     "metadata": {},
     "output_type": "execute_result"
    }
   ],
   "source": [
    "select"
   ]
  },
  {
   "cell_type": "code",
   "execution_count": 60,
   "metadata": {},
   "outputs": [
    {
     "data": {
      "text/plain": [
       "<matplotlib.axes._subplots.AxesSubplot at 0xfdde730>"
      ]
     },
     "execution_count": 60,
     "metadata": {},
     "output_type": "execute_result"
    },
    {
     "data": {
      "image/png": "[encoded data removed]",
      "text/plain": [
       "<matplotlib.figure.Figure at 0xfdedbd0>"
      ]
     },
     "metadata": {},
     "output_type": "display_data"
    }
   ],
   "source": [
    "cmap1 = sns.diverging_palette(150, 10, as_cmap=True)\n",
    "cmap2 = 'RdYlGn'\n",
    "cmap3 = 'PuOr_r'\n",
    "sns.heatmap(select, cmap= cmap2, linewidths=0.5, square= True)"
   ]
  },
  {
   "cell_type": "code",
   "execution_count": null,
   "metadata": {},
   "outputs": [],
   "source": []
  }
 ],
 "metadata": {
  "kernelspec": {
   "display_name": "Python 3",
   "language": "python",
   "name": "python3"
  },
  "language_info": {
   "codemirror_mode": {
    "name": "ipython",
    "version": 3
   },
   "file_extension": ".py",
   "mimetype": "text/x-python",
   "name": "python",
   "nbconvert_exporter": "python",
   "pygments_lexer": "ipython3",
   "version": "3.6.3"
  }
 },
 "nbformat": 4,
 "nbformat_minor": 2
}
